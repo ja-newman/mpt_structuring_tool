{
 "cells": [
  {
   "cell_type": "code",
   "execution_count": 28,
   "metadata": {},
   "outputs": [],
   "source": [
    "import numpy as np\n",
    "import pandas as pd\n",
    "import yfinance as yf\n",
    "from pylab import plt\n",
    "import scipy.optimize as sco\n",
    "plt.style.use(\"ggplot\")"
   ]
  },
  {
   "cell_type": "code",
   "execution_count": 29,
   "metadata": {},
   "outputs": [
    {
     "name": "stdout",
     "output_type": "stream",
     "text": [
      "[*********************100%%**********************]  5 of 5 completed\n"
     ]
    }
   ],
   "source": [
    "risk_free_rate = 0.03\n",
    "\n",
    "stocks = [\"HSBA.L\", \"RR.L\", \"BP.L\", \"BLND.L\", \"AV.L\"]\n",
    "num_assets = len(stocks)\n",
    "\n",
    "yf_stock_data = yf.download(\" \".join(stocks), start=\"2023-01-01\", end=\"2024-01-01\", rounding=True)[\"Close\"]\n",
    "yf_stock_data.to_csv(\"yf_stock_data.csv\", index=True, header=True)\n",
    "\n",
    "ftse_index = yf.download(\"^FTSE\", start=\"2023-01-01\", end=\"2024-01-01\", progress=False, rounding=True)\n",
    "ftse_index.to_csv(\"ftse_index.csv\", index=True, header=True)"
   ]
  },
  {
   "cell_type": "code",
   "execution_count": 30,
   "metadata": {},
   "outputs": [
    {
     "name": "stderr",
     "output_type": "stream",
     "text": [
      "/var/folders/52/118zx6s92x5dv1www3l374100000gn/T/ipykernel_17436/2942537575.py:2: FutureWarning: DataFrame.fillna with 'method' is deprecated and will raise in a future version. Use obj.ffill() or obj.bfill() instead.\n",
      "  raw_stock_data.fillna(method=\"ffill\", inplace=True)\n",
      "/var/folders/52/118zx6s92x5dv1www3l374100000gn/T/ipykernel_17436/2942537575.py:6: FutureWarning: DataFrame.fillna with 'method' is deprecated and will raise in a future version. Use obj.ffill() or obj.bfill() instead.\n",
      "  raw_ftse_data.fillna(method=\"ffill\", inplace=True)\n"
     ]
    },
    {
     "data": {
      "text/plain": [
       "(             AV.L  BLND.L    BP.L  HSBA.L    RR.L\n",
       " Date                                             \n",
       " 2023-01-03  448.9   408.2  483.35   529.9   98.91\n",
       " 2023-01-04  456.8   412.8  465.85   543.5  101.40\n",
       " 2023-01-05  448.7   409.5  471.75   565.3  102.66\n",
       " 2023-01-06  456.0   410.2  477.05   568.6  102.90\n",
       " 2023-01-09  455.0   410.0  479.30   563.2  103.76,\n",
       "               Open    High     Low   Close  Adj Close     Volume\n",
       " Date                                                            \n",
       " 2023-01-03  7451.7  7626.4  7448.7  7554.1     7554.1  914070400\n",
       " 2023-01-04  7554.1  7609.3  7545.2  7585.2     7585.2  753877000\n",
       " 2023-01-05  7585.2  7658.8  7564.7  7633.5     7633.5  883850800\n",
       " 2023-01-06  7633.5  7700.8  7633.5  7699.5     7699.5  813538800\n",
       " 2023-01-09  7699.5  7725.7  7688.7  7724.9     7724.9  847858600)"
      ]
     },
     "execution_count": 30,
     "metadata": {},
     "output_type": "execute_result"
    }
   ],
   "source": [
    "raw_stock_data = pd.DataFrame(yf_stock_data)\n",
    "raw_stock_data.fillna(method=\"ffill\", inplace=True)\n",
    "clean_stock_data = raw_stock_data\n",
    "\n",
    "raw_ftse_data = pd.DataFrame(ftse_index)\n",
    "raw_ftse_data.fillna(method=\"ffill\", inplace=True)\n",
    "clean_ftse_data = raw_ftse_data\n",
    "\n",
    "clean_stock_data.head(), clean_ftse_data.head()"
   ]
  },
  {
   "cell_type": "code",
   "execution_count": 31,
   "metadata": {},
   "outputs": [
    {
     "data": {
      "text/html": [
       "<div>\n",
       "<style scoped>\n",
       "    .dataframe tbody tr th:only-of-type {\n",
       "        vertical-align: middle;\n",
       "    }\n",
       "\n",
       "    .dataframe tbody tr th {\n",
       "        vertical-align: top;\n",
       "    }\n",
       "\n",
       "    .dataframe thead th {\n",
       "        text-align: right;\n",
       "    }\n",
       "</style>\n",
       "<table border=\"1\" class=\"dataframe\">\n",
       "  <thead>\n",
       "    <tr style=\"text-align: right;\">\n",
       "      <th></th>\n",
       "      <th>AV.L</th>\n",
       "      <th>BLND.L</th>\n",
       "      <th>BP.L</th>\n",
       "      <th>HSBA.L</th>\n",
       "      <th>RR.L</th>\n",
       "    </tr>\n",
       "    <tr>\n",
       "      <th>Date</th>\n",
       "      <th></th>\n",
       "      <th></th>\n",
       "      <th></th>\n",
       "      <th></th>\n",
       "      <th></th>\n",
       "    </tr>\n",
       "  </thead>\n",
       "  <tbody>\n",
       "    <tr>\n",
       "      <th>2023-01-04</th>\n",
       "      <td>0.017599</td>\n",
       "      <td>0.011269</td>\n",
       "      <td>-0.036206</td>\n",
       "      <td>0.025665</td>\n",
       "      <td>0.025174</td>\n",
       "    </tr>\n",
       "    <tr>\n",
       "      <th>2023-01-05</th>\n",
       "      <td>-0.017732</td>\n",
       "      <td>-0.007994</td>\n",
       "      <td>0.012665</td>\n",
       "      <td>0.040110</td>\n",
       "      <td>0.012426</td>\n",
       "    </tr>\n",
       "    <tr>\n",
       "      <th>2023-01-06</th>\n",
       "      <td>0.016269</td>\n",
       "      <td>0.001709</td>\n",
       "      <td>0.011235</td>\n",
       "      <td>0.005838</td>\n",
       "      <td>0.002338</td>\n",
       "    </tr>\n",
       "    <tr>\n",
       "      <th>2023-01-09</th>\n",
       "      <td>-0.002193</td>\n",
       "      <td>-0.000488</td>\n",
       "      <td>0.004716</td>\n",
       "      <td>-0.009497</td>\n",
       "      <td>0.008358</td>\n",
       "    </tr>\n",
       "    <tr>\n",
       "      <th>2023-01-10</th>\n",
       "      <td>0.007473</td>\n",
       "      <td>0.000488</td>\n",
       "      <td>-0.008763</td>\n",
       "      <td>0.001598</td>\n",
       "      <td>-0.026407</td>\n",
       "    </tr>\n",
       "  </tbody>\n",
       "</table>\n",
       "</div>"
      ],
      "text/plain": [
       "                AV.L    BLND.L      BP.L    HSBA.L      RR.L\n",
       "Date                                                        \n",
       "2023-01-04  0.017599  0.011269 -0.036206  0.025665  0.025174\n",
       "2023-01-05 -0.017732 -0.007994  0.012665  0.040110  0.012426\n",
       "2023-01-06  0.016269  0.001709  0.011235  0.005838  0.002338\n",
       "2023-01-09 -0.002193 -0.000488  0.004716 -0.009497  0.008358\n",
       "2023-01-10  0.007473  0.000488 -0.008763  0.001598 -0.026407"
      ]
     },
     "execution_count": 31,
     "metadata": {},
     "output_type": "execute_result"
    }
   ],
   "source": [
    "stock_return = clean_stock_data.pct_change(periods=1)\n",
    "stock_return.dropna(inplace=True)\n",
    "stock_return.head()"
   ]
  },
  {
   "cell_type": "code",
   "execution_count": 32,
   "metadata": {},
   "outputs": [],
   "source": [
    "asset_return = stock_return.mean()\n",
    "asset_return_annual = asset_return * 252\n",
    "asset_cov = stock_return.cov()\n",
    "asset_corr = stock_return.corr()"
   ]
  },
  {
   "cell_type": "code",
   "execution_count": 33,
   "metadata": {},
   "outputs": [],
   "source": [
    "def portfolio_variance(weights):\n",
    "    np_weights = np.array(weights)\n",
    "    var = np_weights.T @ (asset_cov * 252) @ np_weights\n",
    "    return var\n",
    "\n",
    "def portfolio_volatility(weights):\n",
    "    return np.sqrt(portfolio_variance(weights))\n",
    "\n",
    "def portfolio_return(weights):\n",
    "    return np.sum(asset_return * weights) * 252\n",
    "\n",
    "def portfolio_sharpe_ratio(weights):\n",
    "    return (portfolio_return(weights) - risk_free_rate) / portfolio_volatility(weights)"
   ]
  },
  {
   "cell_type": "code",
   "execution_count": 34,
   "metadata": {},
   "outputs": [],
   "source": [
    "min_return = min(asset_return * 252)\n",
    "max_return = max(asset_return * 252)\n",
    "expected_returns = np.linspace(min_return, max_return, 100)\n",
    "expected_volatility = []\n",
    "weights = []\n",
    "sharpe = []\n",
    "initial_weights = np.ones(num_assets)\n",
    "bnds = [(0, 1) for _ in range(num_assets)]\n",
    "\n",
    "for i, expected_return in enumerate(expected_returns):\n",
    "    cons = (\n",
    "        {\"type\": \"eq\", \"fun\": lambda x: portfolio_return(x) - expected_return},\n",
    "        {\"type\": \"eq\", \"fun\": lambda x: np.sum(x) - 1}\n",
    "    )\n",
    "    res = sco.minimize(portfolio_volatility, initial_weights, method=\"SLSQP\", bounds=bnds, constraints=cons)\n",
    "    frontier_weights = res[\"x\"]\n",
    "    frontier_return = portfolio_return(frontier_weights)\n",
    "    expected_volatility.append(res[\"fun\"])\n",
    "    weights.append(frontier_weights)\n",
    "    sharpe.append((frontier_return - risk_free_rate) / expected_volatility[-1])"
   ]
  },
  {
   "cell_type": "code",
   "execution_count": 35,
   "metadata": {},
   "outputs": [
    {
     "data": {
      "image/png": "[encoded data removed]",
      "text/plain": [
       "<Figure size 800x400 with 2 Axes>"
      ]
     },
     "metadata": {},
     "output_type": "display_data"
    }
   ],
   "source": [
    "plt.figure(figsize=(8, 4))\n",
    "plt.scatter(expected_volatility, expected_returns, c=(expected_returns - risk_free_rate) / expected_volatility, marker=\"o\")\n",
    "plt.grid(True)\n",
    "plt.xlabel(\"Expected Volatility\")\n",
    "plt.ylabel(\"Expected Return\")\n",
    "plt.colorbar(label=\"Sharpe Ratio\", boundaries=np.linspace(0, 4, 5))\n",
    "plt.title(\"Expected Return vs. Expected Volatility\")\n",
    "plt.show()"
   ]
  },
  {
   "cell_type": "code",
   "execution_count": 36,
   "metadata": {},
   "outputs": [
    {
     "data": {
      "text/html": [
       "<div>\n",
       "<style scoped>\n",
       "    .dataframe tbody tr th:only-of-type {\n",
       "        vertical-align: middle;\n",
       "    }\n",
       "\n",
       "    .dataframe tbody tr th {\n",
       "        vertical-align: top;\n",
       "    }\n",
       "\n",
       "    .dataframe thead th {\n",
       "        text-align: right;\n",
       "    }\n",
       "</style>\n",
       "<table border=\"1\" class=\"dataframe\">\n",
       "  <thead>\n",
       "    <tr style=\"text-align: right;\">\n",
       "      <th></th>\n",
       "      <th>HSBA.L</th>\n",
       "      <th>RR.L</th>\n",
       "      <th>BP.L</th>\n",
       "      <th>BLND.L</th>\n",
       "      <th>AV.L</th>\n",
       "    </tr>\n",
       "  </thead>\n",
       "  <tbody>\n",
       "    <tr>\n",
       "      <th>0</th>\n",
       "      <td>1.000000</td>\n",
       "      <td>9.619063e-17</td>\n",
       "      <td>0.000000</td>\n",
       "      <td>3.876904e-16</td>\n",
       "      <td>0.000000e+00</td>\n",
       "    </tr>\n",
       "    <tr>\n",
       "      <th>1</th>\n",
       "      <td>0.569669</td>\n",
       "      <td>1.367484e-01</td>\n",
       "      <td>0.276393</td>\n",
       "      <td>1.718968e-02</td>\n",
       "      <td>0.000000e+00</td>\n",
       "    </tr>\n",
       "    <tr>\n",
       "      <th>2</th>\n",
       "      <td>0.528521</td>\n",
       "      <td>1.355252e-01</td>\n",
       "      <td>0.260319</td>\n",
       "      <td>7.563466e-02</td>\n",
       "      <td>0.000000e+00</td>\n",
       "    </tr>\n",
       "    <tr>\n",
       "      <th>3</th>\n",
       "      <td>0.487368</td>\n",
       "      <td>1.341783e-01</td>\n",
       "      <td>0.244356</td>\n",
       "      <td>1.340984e-01</td>\n",
       "      <td>0.000000e+00</td>\n",
       "    </tr>\n",
       "    <tr>\n",
       "      <th>4</th>\n",
       "      <td>0.446242</td>\n",
       "      <td>1.327865e-01</td>\n",
       "      <td>0.228401</td>\n",
       "      <td>1.925704e-01</td>\n",
       "      <td>1.108092e-18</td>\n",
       "    </tr>\n",
       "  </tbody>\n",
       "</table>\n",
       "</div>"
      ],
      "text/plain": [
       "     HSBA.L          RR.L      BP.L        BLND.L          AV.L\n",
       "0  1.000000  9.619063e-17  0.000000  3.876904e-16  0.000000e+00\n",
       "1  0.569669  1.367484e-01  0.276393  1.718968e-02  0.000000e+00\n",
       "2  0.528521  1.355252e-01  0.260319  7.563466e-02  0.000000e+00\n",
       "3  0.487368  1.341783e-01  0.244356  1.340984e-01  0.000000e+00\n",
       "4  0.446242  1.327865e-01  0.228401  1.925704e-01  1.108092e-18"
      ]
     },
     "execution_count": 36,
     "metadata": {},
     "output_type": "execute_result"
    }
   ],
   "source": [
    "weights_end = pd.DataFrame(weights, columns=stocks)\n",
    "weights_end.head()"
   ]
  },
  {
   "cell_type": "code",
   "execution_count": 37,
   "metadata": {},
   "outputs": [],
   "source": [
    "exp_volatility_end = pd.DataFrame(expected_volatility, columns=[\"Volatility\"])\n",
    "exp_returns_end = pd.DataFrame(expected_returns, columns=[\"Returns\"])\n",
    "sharpe_end = pd.DataFrame(sharpe, columns=[\"Sharpe\"])"
   ]
  },
  {
   "cell_type": "code",
   "execution_count": 38,
   "metadata": {},
   "outputs": [
    {
     "data": {
      "text/html": [
       "<div>\n",
       "<style scoped>\n",
       "    .dataframe tbody tr th:only-of-type {\n",
       "        vertical-align: middle;\n",
       "    }\n",
       "\n",
       "    .dataframe tbody tr th {\n",
       "        vertical-align: top;\n",
       "    }\n",
       "\n",
       "    .dataframe thead th {\n",
       "        text-align: right;\n",
       "    }\n",
       "</style>\n",
       "<table border=\"1\" class=\"dataframe\">\n",
       "  <thead>\n",
       "    <tr style=\"text-align: right;\">\n",
       "      <th></th>\n",
       "      <th>HSBA.L</th>\n",
       "      <th>RR.L</th>\n",
       "      <th>BP.L</th>\n",
       "      <th>BLND.L</th>\n",
       "      <th>AV.L</th>\n",
       "      <th>Volatility</th>\n",
       "      <th>Returns</th>\n",
       "      <th>Sharpe</th>\n",
       "    </tr>\n",
       "  </thead>\n",
       "  <tbody>\n",
       "    <tr>\n",
       "      <th>0</th>\n",
       "      <td>1.000000</td>\n",
       "      <td>9.619063e-17</td>\n",
       "      <td>0.000000</td>\n",
       "      <td>3.876904e-16</td>\n",
       "      <td>0.000000e+00</td>\n",
       "      <td>0.205801</td>\n",
       "      <td>-0.011203</td>\n",
       "      <td>-0.200208</td>\n",
       "    </tr>\n",
       "    <tr>\n",
       "      <th>1</th>\n",
       "      <td>0.569669</td>\n",
       "      <td>1.367484e-01</td>\n",
       "      <td>0.276393</td>\n",
       "      <td>1.718968e-02</td>\n",
       "      <td>0.000000e+00</td>\n",
       "      <td>0.175858</td>\n",
       "      <td>0.001205</td>\n",
       "      <td>-0.163741</td>\n",
       "    </tr>\n",
       "    <tr>\n",
       "      <th>2</th>\n",
       "      <td>0.528521</td>\n",
       "      <td>1.355252e-01</td>\n",
       "      <td>0.260319</td>\n",
       "      <td>7.563466e-02</td>\n",
       "      <td>0.000000e+00</td>\n",
       "      <td>0.171982</td>\n",
       "      <td>0.013613</td>\n",
       "      <td>-0.095285</td>\n",
       "    </tr>\n",
       "    <tr>\n",
       "      <th>3</th>\n",
       "      <td>0.487368</td>\n",
       "      <td>1.341783e-01</td>\n",
       "      <td>0.244356</td>\n",
       "      <td>1.340984e-01</td>\n",
       "      <td>0.000000e+00</td>\n",
       "      <td>0.168792</td>\n",
       "      <td>0.026020</td>\n",
       "      <td>-0.023577</td>\n",
       "    </tr>\n",
       "    <tr>\n",
       "      <th>4</th>\n",
       "      <td>0.446242</td>\n",
       "      <td>1.327865e-01</td>\n",
       "      <td>0.228401</td>\n",
       "      <td>1.925704e-01</td>\n",
       "      <td>1.108092e-18</td>\n",
       "      <td>0.166327</td>\n",
       "      <td>0.038428</td>\n",
       "      <td>0.050673</td>\n",
       "    </tr>\n",
       "  </tbody>\n",
       "</table>\n",
       "</div>"
      ],
      "text/plain": [
       "     HSBA.L          RR.L      BP.L        BLND.L          AV.L  Volatility  \\\n",
       "0  1.000000  9.619063e-17  0.000000  3.876904e-16  0.000000e+00    0.205801   \n",
       "1  0.569669  1.367484e-01  0.276393  1.718968e-02  0.000000e+00    0.175858   \n",
       "2  0.528521  1.355252e-01  0.260319  7.563466e-02  0.000000e+00    0.171982   \n",
       "3  0.487368  1.341783e-01  0.244356  1.340984e-01  0.000000e+00    0.168792   \n",
       "4  0.446242  1.327865e-01  0.228401  1.925704e-01  1.108092e-18    0.166327   \n",
       "\n",
       "    Returns    Sharpe  \n",
       "0 -0.011203 -0.200208  \n",
       "1  0.001205 -0.163741  \n",
       "2  0.013613 -0.095285  \n",
       "3  0.026020 -0.023577  \n",
       "4  0.038428  0.050673  "
      ]
     },
     "execution_count": 38,
     "metadata": {},
     "output_type": "execute_result"
    }
   ],
   "source": [
    "portfolio_end = pd.concat([weights_end, exp_volatility_end, exp_returns_end, sharpe_end], axis=1)\n",
    "portfolio_end.head()"
   ]
  },
  {
   "cell_type": "code",
   "execution_count": 39,
   "metadata": {},
   "outputs": [
    {
     "data": {
      "text/html": [
       "<div>\n",
       "<style scoped>\n",
       "    .dataframe tbody tr th:only-of-type {\n",
       "        vertical-align: middle;\n",
       "    }\n",
       "\n",
       "    .dataframe tbody tr th {\n",
       "        vertical-align: top;\n",
       "    }\n",
       "\n",
       "    .dataframe thead th {\n",
       "        text-align: right;\n",
       "    }\n",
       "</style>\n",
       "<table border=\"1\" class=\"dataframe\">\n",
       "  <thead>\n",
       "    <tr style=\"text-align: right;\">\n",
       "      <th></th>\n",
       "      <th>HSBA.L</th>\n",
       "      <th>RR.L</th>\n",
       "      <th>BP.L</th>\n",
       "      <th>BLND.L</th>\n",
       "      <th>AV.L</th>\n",
       "      <th>Volatility</th>\n",
       "      <th>Returns</th>\n",
       "      <th>Sharpe</th>\n",
       "    </tr>\n",
       "  </thead>\n",
       "  <tbody>\n",
       "    <tr>\n",
       "      <th>7</th>\n",
       "      <td>0.335261</td>\n",
       "      <td>0.129107</td>\n",
       "      <td>0.185108</td>\n",
       "      <td>0.346864</td>\n",
       "      <td>0.003659</td>\n",
       "      <td>0.163511</td>\n",
       "      <td>0.075652</td>\n",
       "      <td>0.279196</td>\n",
       "    </tr>\n",
       "  </tbody>\n",
       "</table>\n",
       "</div>"
      ],
      "text/plain": [
       "     HSBA.L      RR.L      BP.L    BLND.L      AV.L  Volatility   Returns  \\\n",
       "7  0.335261  0.129107  0.185108  0.346864  0.003659    0.163511  0.075652   \n",
       "\n",
       "     Sharpe  \n",
       "7  0.279196  "
      ]
     },
     "execution_count": 39,
     "metadata": {},
     "output_type": "execute_result"
    }
   ],
   "source": [
    "minimum_variance_portfolio = portfolio_end[portfolio_end[\"Volatility\"]==portfolio_end[\"Volatility\"].min()]\n",
    "minimum_variance_portfolio"
   ]
  },
  {
   "cell_type": "code",
   "execution_count": 40,
   "metadata": {},
   "outputs": [
    {
     "data": {
      "text/html": [
       "<div>\n",
       "<style scoped>\n",
       "    .dataframe tbody tr th:only-of-type {\n",
       "        vertical-align: middle;\n",
       "    }\n",
       "\n",
       "    .dataframe tbody tr th {\n",
       "        vertical-align: top;\n",
       "    }\n",
       "\n",
       "    .dataframe thead th {\n",
       "        text-align: right;\n",
       "    }\n",
       "</style>\n",
       "<table border=\"1\" class=\"dataframe\">\n",
       "  <thead>\n",
       "    <tr style=\"text-align: right;\">\n",
       "      <th></th>\n",
       "      <th>HSBA.L</th>\n",
       "      <th>RR.L</th>\n",
       "      <th>BP.L</th>\n",
       "      <th>BLND.L</th>\n",
       "      <th>AV.L</th>\n",
       "      <th>Volatility</th>\n",
       "      <th>Returns</th>\n",
       "      <th>Sharpe</th>\n",
       "    </tr>\n",
       "  </thead>\n",
       "  <tbody>\n",
       "    <tr>\n",
       "      <th>91</th>\n",
       "      <td>1.110223e-16</td>\n",
       "      <td>0.0</td>\n",
       "      <td>0.0</td>\n",
       "      <td>0.098058</td>\n",
       "      <td>0.901942</td>\n",
       "      <td>0.417834</td>\n",
       "      <td>1.117906</td>\n",
       "      <td>2.603682</td>\n",
       "    </tr>\n",
       "  </tbody>\n",
       "</table>\n",
       "</div>"
      ],
      "text/plain": [
       "          HSBA.L  RR.L  BP.L    BLND.L      AV.L  Volatility   Returns  \\\n",
       "91  1.110223e-16   0.0   0.0  0.098058  0.901942    0.417834  1.117906   \n",
       "\n",
       "      Sharpe  \n",
       "91  2.603682  "
      ]
     },
     "execution_count": 40,
     "metadata": {},
     "output_type": "execute_result"
    }
   ],
   "source": [
    "portfolio_end[\"Sharpe\"].max()\n",
    "optimal_portfolio = portfolio_end[portfolio_end[\"Sharpe\"]==portfolio_end[\"Sharpe\"].max()]\n",
    "optimal_portfolio"
   ]
  },
  {
   "cell_type": "code",
   "execution_count": 41,
   "metadata": {},
   "outputs": [
    {
     "data": {
      "text/html": [
       "<div>\n",
       "<style scoped>\n",
       "    .dataframe tbody tr th:only-of-type {\n",
       "        vertical-align: middle;\n",
       "    }\n",
       "\n",
       "    .dataframe tbody tr th {\n",
       "        vertical-align: top;\n",
       "    }\n",
       "\n",
       "    .dataframe thead th {\n",
       "        text-align: right;\n",
       "    }\n",
       "</style>\n",
       "<table border=\"1\" class=\"dataframe\">\n",
       "  <thead>\n",
       "    <tr style=\"text-align: right;\">\n",
       "      <th></th>\n",
       "      <th>Close</th>\n",
       "    </tr>\n",
       "    <tr>\n",
       "      <th>Date</th>\n",
       "      <th></th>\n",
       "    </tr>\n",
       "  </thead>\n",
       "  <tbody>\n",
       "    <tr>\n",
       "      <th>2023-01-03</th>\n",
       "      <td>7554.1</td>\n",
       "    </tr>\n",
       "    <tr>\n",
       "      <th>2023-01-04</th>\n",
       "      <td>7585.2</td>\n",
       "    </tr>\n",
       "    <tr>\n",
       "      <th>2023-01-05</th>\n",
       "      <td>7633.5</td>\n",
       "    </tr>\n",
       "    <tr>\n",
       "      <th>2023-01-06</th>\n",
       "      <td>7699.5</td>\n",
       "    </tr>\n",
       "    <tr>\n",
       "      <th>2023-01-09</th>\n",
       "      <td>7724.9</td>\n",
       "    </tr>\n",
       "  </tbody>\n",
       "</table>\n",
       "</div>"
      ],
      "text/plain": [
       "             Close\n",
       "Date              \n",
       "2023-01-03  7554.1\n",
       "2023-01-04  7585.2\n",
       "2023-01-05  7633.5\n",
       "2023-01-06  7699.5\n",
       "2023-01-09  7724.9"
      ]
     },
     "execution_count": 41,
     "metadata": {},
     "output_type": "execute_result"
    }
   ],
   "source": [
    "ftse_100 = pd.read_csv(\"ftse_index.csv\", index_col=0, parse_dates=True, usecols=[\"Date\", \"Close\"])\n",
    "ftse_100.head()"
   ]
  },
  {
   "cell_type": "code",
   "execution_count": 42,
   "metadata": {},
   "outputs": [
    {
     "data": {
      "text/html": [
       "<div>\n",
       "<style scoped>\n",
       "    .dataframe tbody tr th:only-of-type {\n",
       "        vertical-align: middle;\n",
       "    }\n",
       "\n",
       "    .dataframe tbody tr th {\n",
       "        vertical-align: top;\n",
       "    }\n",
       "\n",
       "    .dataframe thead th {\n",
       "        text-align: right;\n",
       "    }\n",
       "</style>\n",
       "<table border=\"1\" class=\"dataframe\">\n",
       "  <thead>\n",
       "    <tr style=\"text-align: right;\">\n",
       "      <th></th>\n",
       "      <th>Close</th>\n",
       "    </tr>\n",
       "    <tr>\n",
       "      <th>Date</th>\n",
       "      <th></th>\n",
       "    </tr>\n",
       "  </thead>\n",
       "  <tbody>\n",
       "    <tr>\n",
       "      <th>2023-01-04</th>\n",
       "      <td>0.004117</td>\n",
       "    </tr>\n",
       "    <tr>\n",
       "      <th>2023-01-05</th>\n",
       "      <td>0.006368</td>\n",
       "    </tr>\n",
       "    <tr>\n",
       "      <th>2023-01-06</th>\n",
       "      <td>0.008646</td>\n",
       "    </tr>\n",
       "    <tr>\n",
       "      <th>2023-01-09</th>\n",
       "      <td>0.003299</td>\n",
       "    </tr>\n",
       "    <tr>\n",
       "      <th>2023-01-10</th>\n",
       "      <td>-0.003935</td>\n",
       "    </tr>\n",
       "  </tbody>\n",
       "</table>\n",
       "</div>"
      ],
      "text/plain": [
       "               Close\n",
       "Date                \n",
       "2023-01-04  0.004117\n",
       "2023-01-05  0.006368\n",
       "2023-01-06  0.008646\n",
       "2023-01-09  0.003299\n",
       "2023-01-10 -0.003935"
      ]
     },
     "execution_count": 42,
     "metadata": {},
     "output_type": "execute_result"
    }
   ],
   "source": [
    "market_return = ftse_100.pct_change(periods=1)\n",
    "market_return.dropna(inplace=True)\n",
    "market_return.head()"
   ]
  },
  {
   "cell_type": "code",
   "execution_count": 43,
   "metadata": {},
   "outputs": [
    {
     "data": {
      "text/plain": [
       "Close    0.030233\n",
       "dtype: float64"
      ]
     },
     "execution_count": 43,
     "metadata": {},
     "output_type": "execute_result"
    }
   ],
   "source": [
    "market_return_mean = market_return.mean()\n",
    "market_return_annual = market_return_mean * 252\n",
    "market_return_annual"
   ]
  },
  {
   "cell_type": "code",
   "execution_count": 44,
   "metadata": {},
   "outputs": [
    {
     "data": {
      "text/plain": [
       "Close    0.032125\n",
       "dtype: float64"
      ]
     },
     "execution_count": 44,
     "metadata": {},
     "output_type": "execute_result"
    }
   ],
   "source": [
    "market_beta = (market_return_mean * 252 - risk_free_rate) / market_return.std()\n",
    "market_beta"
   ]
  },
  {
   "cell_type": "code",
   "execution_count": 45,
   "metadata": {},
   "outputs": [
    {
     "data": {
      "text/html": [
       "<div>\n",
       "<style scoped>\n",
       "    .dataframe tbody tr th:only-of-type {\n",
       "        vertical-align: middle;\n",
       "    }\n",
       "\n",
       "    .dataframe tbody tr th {\n",
       "        vertical-align: top;\n",
       "    }\n",
       "\n",
       "    .dataframe thead th {\n",
       "        text-align: right;\n",
       "    }\n",
       "</style>\n",
       "<table border=\"1\" class=\"dataframe\">\n",
       "  <thead>\n",
       "    <tr style=\"text-align: right;\">\n",
       "      <th></th>\n",
       "      <th>Beta</th>\n",
       "    </tr>\n",
       "  </thead>\n",
       "  <tbody>\n",
       "    <tr>\n",
       "      <th>AV.L</th>\n",
       "      <td>-3.178201</td>\n",
       "    </tr>\n",
       "    <tr>\n",
       "      <th>BLND.L</th>\n",
       "      <td>0.046680</td>\n",
       "    </tr>\n",
       "    <tr>\n",
       "      <th>BP.L</th>\n",
       "      <td>-1.817033</td>\n",
       "    </tr>\n",
       "    <tr>\n",
       "      <th>HSBA.L</th>\n",
       "      <td>13.342441</td>\n",
       "    </tr>\n",
       "    <tr>\n",
       "      <th>RR.L</th>\n",
       "      <td>41.290960</td>\n",
       "    </tr>\n",
       "  </tbody>\n",
       "</table>\n",
       "</div>"
      ],
      "text/plain": [
       "             Beta\n",
       "AV.L    -3.178201\n",
       "BLND.L   0.046680\n",
       "BP.L    -1.817033\n",
       "HSBA.L  13.342441\n",
       "RR.L    41.290960"
      ]
     },
     "execution_count": 45,
     "metadata": {},
     "output_type": "execute_result"
    }
   ],
   "source": [
    "stock_beta = (stock_return.mean() * 252 - risk_free_rate) / stock_return.std()\n",
    "stock_beta_end = pd.DataFrame(stock_beta, columns=[\"Beta\"])\n",
    "stock_beta_end"
   ]
  },
  {
   "cell_type": "code",
   "execution_count": 46,
   "metadata": {},
   "outputs": [
    {
     "data": {
      "text/html": [
       "<div>\n",
       "<style scoped>\n",
       "    .dataframe tbody tr th:only-of-type {\n",
       "        vertical-align: middle;\n",
       "    }\n",
       "\n",
       "    .dataframe tbody tr th {\n",
       "        vertical-align: top;\n",
       "    }\n",
       "\n",
       "    .dataframe thead th {\n",
       "        text-align: right;\n",
       "    }\n",
       "</style>\n",
       "<table border=\"1\" class=\"dataframe\">\n",
       "  <thead>\n",
       "    <tr style=\"text-align: right;\">\n",
       "      <th></th>\n",
       "      <th>Beta</th>\n",
       "      <th>Return</th>\n",
       "    </tr>\n",
       "  </thead>\n",
       "  <tbody>\n",
       "    <tr>\n",
       "      <th>AV.L</th>\n",
       "      <td>-3.178201</td>\n",
       "      <td>-0.011203</td>\n",
       "    </tr>\n",
       "    <tr>\n",
       "      <th>BLND.L</th>\n",
       "      <td>0.046680</td>\n",
       "      <td>0.030959</td>\n",
       "    </tr>\n",
       "    <tr>\n",
       "      <th>BP.L</th>\n",
       "      <td>-1.817033</td>\n",
       "      <td>-0.000610</td>\n",
       "    </tr>\n",
       "    <tr>\n",
       "      <th>HSBA.L</th>\n",
       "      <td>13.342441</td>\n",
       "      <td>0.204891</td>\n",
       "    </tr>\n",
       "    <tr>\n",
       "      <th>RR.L</th>\n",
       "      <td>41.290960</td>\n",
       "      <td>1.217168</td>\n",
       "    </tr>\n",
       "  </tbody>\n",
       "</table>\n",
       "</div>"
      ],
      "text/plain": [
       "             Beta    Return\n",
       "AV.L    -3.178201 -0.011203\n",
       "BLND.L   0.046680  0.030959\n",
       "BP.L    -1.817033 -0.000610\n",
       "HSBA.L  13.342441  0.204891\n",
       "RR.L    41.290960  1.217168"
      ]
     },
     "execution_count": 46,
     "metadata": {},
     "output_type": "execute_result"
    }
   ],
   "source": [
    "asset_return_end = pd.DataFrame(asset_return * 252, columns=[\"Return\"])\n",
    "asset_end = pd.concat([stock_beta_end, asset_return_end], axis=1)\n",
    "asset_end"
   ]
  },
  {
   "cell_type": "code",
   "execution_count": 47,
   "metadata": {},
   "outputs": [],
   "source": [
    "sml_slope = market_return_annual / market_beta"
   ]
  },
  {
   "cell_type": "code",
   "execution_count": 48,
   "metadata": {},
   "outputs": [
    {
     "name": "stderr",
     "output_type": "stream",
     "text": [
      "/var/folders/52/118zx6s92x5dv1www3l374100000gn/T/ipykernel_17436/820227119.py:5: FutureWarning: Calling float on a single element Series is deprecated and will raise a TypeError in the future. Use float(ser.iloc[0]) instead\n",
      "  y1 = risk_free_rate + x1 * float(sml_slope)\n"
     ]
    },
    {
     "data": {
      "image/png": "[encoded data removed]",
      "text/plain": [
       "<Figure size 1000x500 with 1 Axes>"
      ]
     },
     "metadata": {},
     "output_type": "display_data"
    }
   ],
   "source": [
    "plt.figure(figsize=(10, 5))\n",
    "plt.axvline(0)\n",
    "plt.axhline(0)\n",
    "x1 = np.linspace(0, 5, 256)\n",
    "y1 = risk_free_rate + x1 * float(sml_slope)\n",
    "plt.plot(x1, y1, color=\"g\", linewidth=5, label=\"SML Line\")\n",
    "plt.scatter(asset_end[\"Beta\"], asset_end[\"Return\"], marker=\"o\", s=100, label=\"Stock\")\n",
    "plt.scatter(0.130758,0.056586,color='b',marker='d',s=200,label='MVP')\n",
    "plt.scatter(0.315409,0.09962,color='k',marker='d',s=200,label='Optimize')\n",
    "plt.grid(True)\n",
    "plt.xlabel('Beta')\n",
    "plt.ylabel('Return')\n",
    "plt.legend()\n",
    "plt.show()\n"
   ]
  }
 ],
 "metadata": {
  "kernelspec": {
   "display_name": "base",
   "language": "python",
   "name": "python3"
  },
  "language_info": {
   "codemirror_mode": {
    "name": "ipython",
    "version": 3
   },
   "file_extension": ".py",
   "mimetype": "text/x-python",
   "name": "python",
   "nbconvert_exporter": "python",
   "pygments_lexer": "ipython3",
   "version": "3.12.4"
  }
 },
 "nbformat": 4,
 "nbformat_minor": 2
}
