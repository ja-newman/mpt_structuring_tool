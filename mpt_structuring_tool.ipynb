{
 "cells": [
  {
   "cell_type": "code",
   "execution_count": 1,
   "metadata": {},
   "outputs": [],
   "source": [
    "import numpy as np\n",
    "import pandas as pd\n",
    "import yfinance as yf\n",
    "import datetime\n",
    "from pylab import plt\n",
    "import scipy.optimize as sco\n",
    "plt.style.use(\"ggplot\")"
   ]
  },
  {
   "cell_type": "code",
   "execution_count": 2,
   "metadata": {},
   "outputs": [
    {
     "name": "stdout",
     "output_type": "stream",
     "text": [
      "[*********************100%%**********************]  5 of 5 completed\n"
     ]
    }
   ],
   "source": [
    "risk_free_rate = 0.03\n",
    "\n",
    "stocks = [\"HSBA.L\", \"RR.L\", \"BP.L\", \"BLND.L\", \"AV.L\"]\n",
    "num_assets = len(stocks)\n",
    "\n",
    "yf_stock_data = yf.download(\" \".join(stocks), start=\"2024-01-01\", end=\"2024-06-01\", rounding=True)[\"Close\"]\n",
    "yf_stock_data.to_csv(\"yf_stock_data.csv\", index=True, header=True)\n",
    "\n",
    "ftse_index = yf.download(\"^FTSE\", start=\"2024-01-01\", end=\"2024-06-01\", progress=False, rounding=True)\n",
    "ftse_index.to_csv(\"ftse_index.csv\", index=True, header=True)"
   ]
  },
  {
   "cell_type": "code",
   "execution_count": 3,
   "metadata": {},
   "outputs": [
    {
     "name": "stderr",
     "output_type": "stream",
     "text": [
      "/var/folders/52/118zx6s92x5dv1www3l374100000gn/T/ipykernel_17095/2942537575.py:2: FutureWarning: DataFrame.fillna with 'method' is deprecated and will raise in a future version. Use obj.ffill() or obj.bfill() instead.\n",
      "  raw_stock_data.fillna(method=\"ffill\", inplace=True)\n",
      "/var/folders/52/118zx6s92x5dv1www3l374100000gn/T/ipykernel_17095/2942537575.py:6: FutureWarning: DataFrame.fillna with 'method' is deprecated and will raise in a future version. Use obj.ffill() or obj.bfill() instead.\n",
      "  raw_ftse_data.fillna(method=\"ffill\", inplace=True)\n"
     ]
    },
    {
     "data": {
      "text/plain": [
       "(             AV.L  BLND.L    BP.L  HSBA.L   RR.L\n",
       " Date                                            \n",
       " 2024-01-02  433.7   397.3  471.00   630.5  298.1\n",
       " 2024-01-03  429.8   394.9  471.95   625.4  294.8\n",
       " 2024-01-04  433.0   395.8  473.45   632.5  297.8\n",
       " 2024-01-05  433.3   395.4  473.85   634.3  296.6\n",
       " 2024-01-08  435.9   400.5  461.45   640.0  305.2,\n",
       "               Open    High     Low   Close  Adj Close      Volume\n",
       " Date                                                             \n",
       " 2024-01-02  7733.2  7764.4  7689.0  7721.5     7721.5   678041300\n",
       " 2024-01-03  7721.5  7744.6  7650.3  7682.3     7682.3   857615300\n",
       " 2024-01-04  7682.3  7728.2  7678.8  7723.1     7723.1   963235800\n",
       " 2024-01-05  7723.1  7723.1  7642.9  7689.6     7689.6   701524000\n",
       " 2024-01-08  7689.6  7694.2  7636.1  7694.2     7694.2  1055586300)"
      ]
     },
     "execution_count": 3,
     "metadata": {},
     "output_type": "execute_result"
    }
   ],
   "source": [
    "raw_stock_data = pd.DataFrame(yf_stock_data)\n",
    "raw_stock_data.fillna(method=\"ffill\", inplace=True)\n",
    "clean_stock_data = raw_stock_data\n",
    "\n",
    "raw_ftse_data = pd.DataFrame(ftse_index)\n",
    "raw_ftse_data.fillna(method=\"ffill\", inplace=True)\n",
    "clean_ftse_data = raw_ftse_data\n",
    "\n",
    "clean_stock_data.head(), clean_ftse_data.head()"
   ]
  },
  {
   "cell_type": "code",
   "execution_count": null,
   "metadata": {},
   "outputs": [],
   "source": []
  }
 ],
 "metadata": {
  "kernelspec": {
   "display_name": "base",
   "language": "python",
   "name": "python3"
  },
  "language_info": {
   "codemirror_mode": {
    "name": "ipython",
    "version": 3
   },
   "file_extension": ".py",
   "mimetype": "text/x-python",
   "name": "python",
   "nbconvert_exporter": "python",
   "pygments_lexer": "ipython3",
   "version": "3.11.5"
  }
 },
 "nbformat": 4,
 "nbformat_minor": 2
}
