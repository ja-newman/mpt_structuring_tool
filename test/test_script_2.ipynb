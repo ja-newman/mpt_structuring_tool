{
 "cells": [
  {
   "cell_type": "code",
   "execution_count": 2,
   "metadata": {},
   "outputs": [],
   "source": [
    "import numpy as np\n",
    "import pandas as pd\n",
    "import yfinance as yf\n",
    "import scipy.optimize as sco\n",
    "from pylab import plt\n",
    "plt.style.use(\"ggplot\")"
   ]
  },
  {
   "cell_type": "code",
   "execution_count": 21,
   "metadata": {},
   "outputs": [],
   "source": [
    "def find_covariance_matrix(corr, st_dev):\n",
    "    n = len(st_dev)\n",
    "    cov_matrix = np.zeros((n, n))\n",
    "    \n",
    "    # Indexing the correlations based on the provided order [ρ12, ρ23, ρ13]\n",
    "    corr_index = { (0, 1): 0, (1, 2): 1, (0, 2): 2 }\n",
    "    \n",
    "    # Fill the upper triangle and the lower triangle symmetrically\n",
    "    for i in range(n):\n",
    "        for j in range(i + 1, n):\n",
    "            rho = corr[corr_index[(i, j)] if (i, j) in corr_index else corr_index[(j, i)]]\n",
    "            cov_matrix[i, j] = rho * st_dev[i] * st_dev[j]\n",
    "            cov_matrix[j, i] = cov_matrix[i, j]\n",
    "\n",
    "    # Fill the diagonal\n",
    "    for i in range(n):\n",
    "        cov_matrix[i, i] = st_dev[i] ** 2\n",
    "\n",
    "    return cov_matrix\n",
    "\n",
    "def invert_matrix(matrix):\n",
    "    return np.linalg.inv(matrix)\n",
    "\n",
    "def find_mvp_weights(inverted_cov_mat, st_dev):\n",
    "    u = np.ones(len(st_dev))\n",
    "    u_C_inv = u @ inverted_cov_mat\n",
    "    u_C_inv_uT = u_C_inv @ u.T\n",
    "    \n",
    "    mvp_weights = []\n",
    "    for i in u_C_inv:\n",
    "        mvp_weights.append(i / u_C_inv_uT)\n",
    "    \n",
    "    return mvp_weights"
   ]
  },
  {
   "cell_type": "code",
   "execution_count": 22,
   "metadata": {},
   "outputs": [
    {
     "name": "stderr",
     "output_type": "stream",
     "text": [
      "[                       0%%                      ]"
     ]
    },
    {
     "name": "stderr",
     "output_type": "stream",
     "text": [
      "[*********************100%%**********************]  3 of 3 completed\n"
     ]
    }
   ],
   "source": [
    "risk_free_rate = 0.03\n",
    "\n",
    "stocks = [\"HSBA.L\", \"RR.L\", \"BLND.L\"]\n",
    "num_assets = len(stocks)\n",
    "\n",
    "yf_stock_data = yf.download(\" \".join(stocks), start=\"2023-01-01\", end=\"2024-01-01\", rounding=True)[\"Close\"]\n",
    "yf_stock_data.to_csv(\"test_stock_data.csv\", index=True, header=True)\n",
    "\n",
    "ftse_index = yf.download(\"^FTSE\", start=\"2023-01-01\", end=\"2024-01-01\", progress=False, rounding=True)\n",
    "ftse_index.to_csv(\"test_ftse_data.csv\", index=True, header=True)"
   ]
  },
  {
   "cell_type": "code",
   "execution_count": 23,
   "metadata": {},
   "outputs": [
    {
     "name": "stderr",
     "output_type": "stream",
     "text": [
      "/var/folders/qg/1zr492bn2zqcvxkm30bd16tc0000gn/T/ipykernel_10239/2942537575.py:2: FutureWarning: DataFrame.fillna with 'method' is deprecated and will raise in a future version. Use obj.ffill() or obj.bfill() instead.\n",
      "  raw_stock_data.fillna(method=\"ffill\", inplace=True)\n",
      "/var/folders/qg/1zr492bn2zqcvxkm30bd16tc0000gn/T/ipykernel_10239/2942537575.py:6: FutureWarning: DataFrame.fillna with 'method' is deprecated and will raise in a future version. Use obj.ffill() or obj.bfill() instead.\n",
      "  raw_ftse_data.fillna(method=\"ffill\", inplace=True)\n"
     ]
    },
    {
     "data": {
      "text/plain": [
       "(Ticker      BLND.L  HSBA.L    RR.L\n",
       " Date                              \n",
       " 2023-01-03   408.2   529.9   98.91\n",
       " 2023-01-04   412.8   543.5  101.40\n",
       " 2023-01-05   409.5   565.3  102.66\n",
       " 2023-01-06   410.2   568.6  102.90\n",
       " 2023-01-09   410.0   563.2  103.76,\n",
       "               Open    High     Low   Close  Adj Close     Volume\n",
       " Date                                                            \n",
       " 2023-01-03  7451.7  7626.4  7448.7  7554.1     7554.1  914070400\n",
       " 2023-01-04  7554.1  7609.3  7545.2  7585.2     7585.2  753877000\n",
       " 2023-01-05  7585.2  7658.8  7564.7  7633.5     7633.5  883850800\n",
       " 2023-01-06  7633.5  7700.8  7633.5  7699.5     7699.5  813538800\n",
       " 2023-01-09  7699.5  7725.7  7688.7  7724.9     7724.9  847858600)"
      ]
     },
     "execution_count": 23,
     "metadata": {},
     "output_type": "execute_result"
    }
   ],
   "source": [
    "raw_stock_data = pd.DataFrame(yf_stock_data)\n",
    "raw_stock_data.fillna(method=\"ffill\", inplace=True)\n",
    "clean_stock_data = raw_stock_data\n",
    "\n",
    "raw_ftse_data = pd.DataFrame(ftse_index)\n",
    "raw_ftse_data.fillna(method=\"ffill\", inplace=True)\n",
    "clean_ftse_data = raw_ftse_data\n",
    "\n",
    "clean_stock_data.head(), clean_ftse_data.head()"
   ]
  },
  {
   "cell_type": "code",
   "execution_count": 24,
   "metadata": {},
   "outputs": [
    {
     "data": {
      "text/html": [
       "<div>\n",
       "<style scoped>\n",
       "    .dataframe tbody tr th:only-of-type {\n",
       "        vertical-align: middle;\n",
       "    }\n",
       "\n",
       "    .dataframe tbody tr th {\n",
       "        vertical-align: top;\n",
       "    }\n",
       "\n",
       "    .dataframe thead th {\n",
       "        text-align: right;\n",
       "    }\n",
       "</style>\n",
       "<table border=\"1\" class=\"dataframe\">\n",
       "  <thead>\n",
       "    <tr style=\"text-align: right;\">\n",
       "      <th>Ticker</th>\n",
       "      <th>BLND.L</th>\n",
       "      <th>HSBA.L</th>\n",
       "      <th>RR.L</th>\n",
       "    </tr>\n",
       "    <tr>\n",
       "      <th>Date</th>\n",
       "      <th></th>\n",
       "      <th></th>\n",
       "      <th></th>\n",
       "    </tr>\n",
       "  </thead>\n",
       "  <tbody>\n",
       "    <tr>\n",
       "      <th>2023-01-04</th>\n",
       "      <td>0.011269</td>\n",
       "      <td>0.025665</td>\n",
       "      <td>0.025174</td>\n",
       "    </tr>\n",
       "    <tr>\n",
       "      <th>2023-01-05</th>\n",
       "      <td>-0.007994</td>\n",
       "      <td>0.040110</td>\n",
       "      <td>0.012426</td>\n",
       "    </tr>\n",
       "    <tr>\n",
       "      <th>2023-01-06</th>\n",
       "      <td>0.001709</td>\n",
       "      <td>0.005838</td>\n",
       "      <td>0.002338</td>\n",
       "    </tr>\n",
       "    <tr>\n",
       "      <th>2023-01-09</th>\n",
       "      <td>-0.000488</td>\n",
       "      <td>-0.009497</td>\n",
       "      <td>0.008358</td>\n",
       "    </tr>\n",
       "    <tr>\n",
       "      <th>2023-01-10</th>\n",
       "      <td>0.000488</td>\n",
       "      <td>0.001598</td>\n",
       "      <td>-0.026407</td>\n",
       "    </tr>\n",
       "  </tbody>\n",
       "</table>\n",
       "</div>"
      ],
      "text/plain": [
       "Ticker        BLND.L    HSBA.L      RR.L\n",
       "Date                                    \n",
       "2023-01-04  0.011269  0.025665  0.025174\n",
       "2023-01-05 -0.007994  0.040110  0.012426\n",
       "2023-01-06  0.001709  0.005838  0.002338\n",
       "2023-01-09 -0.000488 -0.009497  0.008358\n",
       "2023-01-10  0.000488  0.001598 -0.026407"
      ]
     },
     "execution_count": 24,
     "metadata": {},
     "output_type": "execute_result"
    }
   ],
   "source": [
    "stock_return = clean_stock_data.pct_change(periods=1)\n",
    "stock_return.dropna(inplace=True)\n",
    "stock_return.head()"
   ]
  },
  {
   "cell_type": "code",
   "execution_count": 25,
   "metadata": {},
   "outputs": [
    {
     "name": "stdout",
     "output_type": "stream",
     "text": [
      "[0.00012285136296880773, 0.0008130606875553639, 0.0048300323581924745]\n",
      "[0.020534158265751588, 0.013107892932961787, 0.028751285018817605]\n"
     ]
    }
   ],
   "source": [
    "expected_returns = []\n",
    "standard_deviations = []\n",
    "\n",
    "for column in stock_return.columns:\n",
    "    expected_returns.append(stock_return[column].mean())\n",
    "    standard_deviations.append(stock_return[column].std())\n",
    "\n",
    "print(expected_returns)\n",
    "print(standard_deviations)"
   ]
  },
  {
   "cell_type": "code",
   "execution_count": 26,
   "metadata": {},
   "outputs": [],
   "source": [
    "corr_mat = clean_stock_data.corr()\n",
    "\n",
    "corr_12 = corr_mat.iloc[0, 1]\n",
    "corr_23 = corr_mat.iloc[1, 2]\n",
    "corr_13 = corr_mat.iloc[0, 2]\n",
    "\n",
    "correlations = [corr_12, corr_23, corr_13]\n"
   ]
  },
  {
   "cell_type": "code",
   "execution_count": 27,
   "metadata": {},
   "outputs": [
    {
     "name": "stdout",
     "output_type": "stream",
     "text": [
      "[[ 4.21651656e-04 -6.98949540e-05 -2.61215721e-04]\n",
      " [-6.98949540e-05  1.71816857e-04  1.28036680e-04]\n",
      " [-2.61215721e-04  1.28036680e-04  8.26636390e-04]]\n",
      "\n",
      "\n",
      "[[2999.33690594  580.89265513  857.81172111]\n",
      " [ 580.89265513 6692.08231079 -852.96717462]\n",
      " [ 857.81172111 -852.96717462 1612.90382046]]\n"
     ]
    }
   ],
   "source": [
    "cov_mat = find_covariance_matrix(correlations, standard_deviations)\n",
    "cov_mat_inv = invert_matrix(cov_mat)\n",
    "\n",
    "print(cov_mat)\n",
    "print(\"\\n\")\n",
    "print(cov_mat_inv)"
   ]
  },
  {
   "cell_type": "code",
   "execution_count": 28,
   "metadata": {},
   "outputs": [
    {
     "name": "stdout",
     "output_type": "stream",
     "text": [
      "[0.35573207270906915, 0.5145969884453986, 0.12967093884553224]\n"
     ]
    }
   ],
   "source": [
    "mvp_weights = find_mvp_weights(cov_mat_inv, standard_deviations)\n",
    "print(mvp_weights)"
   ]
  },
  {
   "cell_type": "code",
   "execution_count": 29,
   "metadata": {},
   "outputs": [
    {
     "name": "stdout",
     "output_type": "stream",
     "text": [
      "0.0010884155817644818\n"
     ]
    }
   ],
   "source": [
    "expected_returns_array = np.array(expected_returns)\n",
    "\n",
    "mvp_return = mvp_weights @ expected_returns_array.T\n",
    "print(mvp_return)"
   ]
  },
  {
   "cell_type": "code",
   "execution_count": null,
   "metadata": {},
   "outputs": [],
   "source": []
  }
 ],
 "metadata": {
  "kernelspec": {
   "display_name": "base",
   "language": "python",
   "name": "python3"
  },
  "language_info": {
   "codemirror_mode": {
    "name": "ipython",
    "version": 3
   },
   "file_extension": ".py",
   "mimetype": "text/x-python",
   "name": "python",
   "nbconvert_exporter": "python",
   "pygments_lexer": "ipython3",
   "version": "3.12.4"
  }
 },
 "nbformat": 4,
 "nbformat_minor": 2
}
