{
 "cells": [
  {
   "cell_type": "code",
   "execution_count": 2,
   "metadata": {},
   "outputs": [],
   "source": [
    "import numpy as np"
   ]
  },
  {
   "cell_type": "markdown",
   "metadata": {},
   "source": [
    "---\n",
    "## Initial Parameters\n",
    "\n",
    "For a single-period model and $n$ risky assets, we have prices $S_1,\\ S_2, ...,\\ S_n$, and their respective returns $K_1, K_2,...,K_n$. \n",
    "\n",
    "We begin with their expected returns $\\mu_i = \\mathbf{E}(K_i)$ arranged into a one-row matrix $m = (\\mu_1, \\mu_2,...,\\mu_n)$, standard deviations $\\sigma_1, \\sigma_2,...,\\sigma_n$, and correlations $\\rho$."
   ]
  },
  {
   "cell_type": "code",
   "execution_count": 3,
   "metadata": {},
   "outputs": [],
   "source": [
    "exp_returns = [0.15, -0.1, 0.1]\n",
    "st_dev = [0.2, 0.15, 0.1]\n",
    "corr = [0.3, -0.1, 0.2]"
   ]
  },
  {
   "cell_type": "markdown",
   "metadata": {},
   "source": [
    "---\n",
    "## Required Functions for Matrices\n",
    "\n",
    "For $n$ risky securities, we have $c_{ij} = \\textnormal{cov}(K_i, K_j)$ as covariances. They form a covariance matrix:\n",
    "\n",
    "$$\n",
    "\\mathbf{C} =\n",
    "\\begin{pmatrix}\n",
    "c_{11} & c_{12} & \\cdots & c_{1n} \\\\\n",
    "c_{21} & c_{22} & \\cdots & c_{2n} \\\\\n",
    "\\vdots & \\vdots & \\ddots & \\vdots \\\\\n",
    "c_{n1} & c_{n2} & \\cdots & c_{nn}\n",
    "\\end{pmatrix}\n",
    "$$\n",
    "\n",
    "We assume that this matrix is invertible: $\\textnormal{det}\\mathbf{C}\\neq 0$.\n",
    "\n",
    "Property of covariance 1: $c_{ij} = c_{ji}$, therefore, for a 3x3 matrix, $c_{12}=c_{21},\\ c_{23}=c_{32},\\ c_{13}=c_{31}$.\n",
    "\n",
    "Property of covariance 2: $\\textnormal{var}(i)=c_{ii}=\\sigma_i^2$\n",
    "\n",
    "With correlations $\\rho_{ij} = \\frac{c_{ij}}{\\sigma_i \\sigma_j}$, we can calculate for $c_{ij}$ with $c_{ij}=\\rho_{ij}\\sigma_i \\sigma_j$.\n",
    "\n",
    "Thus, for three assets, we expect our covariance matrix to appear as\n",
    "\n",
    "$$\n",
    "\\mathbf{C} =\n",
    "\n",
    "\\begin{pmatrix}\n",
    "c_{11} & c_{12} & c_{13} \\\\\n",
    "c_{21} & c_{22} & c_{23} \\\\\n",
    "c_{31} & c_{32} & c_{33}\n",
    "\\end{pmatrix}\n",
    "\n",
    "=\n",
    "\n",
    "\\begin{pmatrix}\n",
    "\\sigma_{1}^2 & c_{12} & c_{13} \\\\\n",
    "c_{21} & \\sigma_{2}^2 & c_{23} \\\\\n",
    "c_{31} & c_{32} & \\sigma_{3}^2\n",
    "\\end{pmatrix}\n",
    "$$\n",
    "\n",
    "Below are functions to create a covariance matrix, and its inversion."
   ]
  },
  {
   "cell_type": "code",
   "execution_count": 4,
   "metadata": {},
   "outputs": [],
   "source": [
    "def find_covariance_matrix(correlation, standard_deviation):\n",
    "    n = len(standard_deviation)\n",
    "    covariance_matrix = np.zeros((n, n))\n",
    "\n",
    "    # For ONLY THREE assets, correlations based on REQUIRED ORDER [ρ12, ρ23, ρ13] of matrix shape 3x3.\n",
    "    correlation_index = {(0, 1): 0,\n",
    "                         (1, 2): 1,\n",
    "                         (0, 2): 2}\n",
    "    \n",
    "    for i in range(n):\n",
    "        for j in range(i + 1, n):\n",
    "            rho = correlation[correlation_index[(i, j)] if (i, j) in correlation_index else correlation_index[(j, i)]]\n",
    "            covariance_matrix[i, j] = rho * standard_deviation[i] * standard_deviation[j]\n",
    "            covariance_matrix[j, i] = covariance_matrix[i, j]\n",
    "    \n",
    "    for i in range(n):\n",
    "        covariance_matrix[i, i] = standard_deviation[i] ** 2\n",
    "    \n",
    "    return covariance_matrix\n",
    "\n",
    "def invert_matrix(matrix):\n",
    "    return np.linalg.inv(matrix)"
   ]
  },
  {
   "cell_type": "markdown",
   "metadata": {},
   "source": [
    "### Find Covariance Matrix and Inverse\n",
    "\n",
    "Using the functions above, we can compute the required covariance matrix and its inverse."
   ]
  },
  {
   "cell_type": "code",
   "execution_count": 5,
   "metadata": {},
   "outputs": [
    {
     "name": "stdout",
     "output_type": "stream",
     "text": [
      "[[ 0.04    0.009   0.004 ]\n",
      " [ 0.009   0.0225 -0.0015]\n",
      " [ 0.004  -0.0015  0.01  ]] \n",
      "\n",
      " [[ 29.18632075 -12.57861635 -13.56132075]\n",
      " [-12.57861635  50.31446541  12.57861635]\n",
      " [-13.56132075  12.57861635 107.31132075]]\n"
     ]
    }
   ],
   "source": [
    "cov_mat = find_covariance_matrix(corr, st_dev)\n",
    "cov_mat_inv = invert_matrix(cov_mat)\n",
    "\n",
    "print(cov_mat, \"\\n\\n\", cov_mat_inv)"
   ]
  },
  {
   "cell_type": "markdown",
   "metadata": {},
   "source": [
    "---\n",
    "## Find Weights of Minimum Variance Portfolio (MVP)\n",
    "\n",
    "#### Standing assumptions:\n",
    "\n",
    "$w = (w_1, ..., w_n)$: The weight vector.\n",
    "\n",
    "$m = (\\mu_1, ..., \\mu_n)$: The return vector.\n",
    "\n",
    "$u = (1,1,...,1)$\n",
    "\n",
    "$\\mathbf{C}=$ The covariance matrix.\n",
    "\n",
    "$\\mathbf{C}^{-1}=$ The inverse covariance matrix.\n",
    "\n",
    "Thus, we can use the following formula to compute the weights for the MVP:\n",
    "\n",
    "$$\n",
    "\\mathbf{w}_{\\textnormal{MVP}} = \\frac{u\\mathbf{C}^{-1}}{u\\mathbf{C}^{-1}u^{\\mathbf{T}}}\n",
    "$$\n",
    "\n",
    "Note: $^{\\mathbf{T}}$ denotes matrix transposition."
   ]
  },
  {
   "cell_type": "code",
   "execution_count": 6,
   "metadata": {},
   "outputs": [
    {
     "name": "stdout",
     "output_type": "stream",
     "text": [
      "[0.01907692307692311, 0.31507692307692303, 0.6658461538461538]\n"
     ]
    }
   ],
   "source": [
    "u = np.ones(len(exp_returns))\n",
    "mvp_weights = []\n",
    "\n",
    "u_C_inv = u @ cov_mat_inv\n",
    "u_C_inv_uT = u_C_inv @ u.T\n",
    "\n",
    "# u_C_inv is a 1x3 array, whereas u_C_inv_uT is a number (usually float). \n",
    "# To achieve weights, we must iterate through the values in the array and divide by u_C_inv_uT.\n",
    "\n",
    "for i in u_C_inv:\n",
    "    mvp_weights.append(i / u_C_inv_uT)\n",
    "\n",
    "print(mvp_weights)"
   ]
  },
  {
   "cell_type": "markdown",
   "metadata": {},
   "source": [
    "### Compute MVP Variance and Return\n",
    "\n",
    "MVP variance $\\sigma_{\\textnormal{MVP}}^2$ is calculated with: \n",
    "$$\n",
    "\\sigma_{\\textnormal{MVP}}^2 = \\mathbf{w}_{\\textnormal{MVP}} \\ \\cdot\\ \\mathbf{C}\\ \\cdot\\ \\mathbf{w}_{\\textnormal{MVP}}^{\\mathbf{T}}\n",
    "$$\n",
    "\n",
    "MVP return $\\mu_{\\textnormal{MVP}}$ is simply calculated with:\n",
    "$$\n",
    "\\mu_{\\textnormal{MVP}} = \\mathbf{w}_{\\textnormal{MVP}} \\ \\cdot\\ m^{\\mathbf{T}}\n",
    "$$"
   ]
  },
  {
   "cell_type": "code",
   "execution_count": 7,
   "metadata": {},
   "outputs": [
    {
     "name": "stdout",
     "output_type": "stream",
     "text": [
      "0.006262153846153846\n",
      "0.03793846153846154\n"
     ]
    }
   ],
   "source": [
    "mvp_variance = mvp_weights @ cov_mat @ np.array(mvp_weights).T\n",
    "mvp_return = mvp_weights @ np.array(exp_returns).T\n",
    "\n",
    "print(mvp_variance)\n",
    "print(mvp_return)"
   ]
  },
  {
   "cell_type": "markdown",
   "metadata": {},
   "source": [
    "---\n",
    "## Return Constraints\n",
    "\n",
    "Now that we have tackled finding the minimum variance portfolio and its associated metrics, we can attempt finding the same MVP with a given return constraint. In this example, we will use a return constraint of 10% (In plain English, this can be described as: \"Given a required rate of return of 10%, what portfolio would provide the lowest risk?\").\n",
    "\n",
    "From my notes, the weights of this portfolio $w_{\\mu}$ can be found by:\n",
    "$$\n",
    "w_\\mu=\\frac{\\lambda_1}{2}m\\mathbf{C}^{-1}+\\frac{\\lambda_2}{2}u\\mathbf{C}^{-1}\n",
    "$$\n",
    "And $\\lambda_1,\\lambda_2$ are given by:\n",
    "$$\n",
    "\\begin{bmatrix} \n",
    "\\lambda_1\\\\ \n",
    "\\lambda_2\\\\ \n",
    "\\end{bmatrix} = 2 \\begin{bmatrix} \n",
    "m\\mathbf{C}^{-1}m^\\mathbf{T} & u\\mathbf{C}^{-1}m^\\mathbf{T}\\\\\n",
    "m\\mathbf{C}^{-1}u^\\mathbf{T} & u\\mathbf{C}^{-1}u^\\mathbf{T}\\\\ \n",
    "\\end{bmatrix}^{-1}\\begin{bmatrix} \n",
    "\\mu\\\\ \n",
    "1\\\\ \n",
    "\\end{bmatrix}\n",
    "$$\n",
    "\n",
    "With a lot of work, we can rearrange this to:\n",
    "$$\n",
    "\\lambda_2 = \\frac{2\\mu m\\mathbf{C}^{-1}u^\\mathbf{T}-2m\\mathbf{C}^{-1}m^\\mathbf{T}}{(m\\mathbf{C}^{-1}u^\\mathbf{T})^2 - u\\mathbf{C}^{-1}u^\\mathbf{T}m\\mathbf{C}^{-1}m^\\mathbf{T}}\n",
    "$$\n",
    "\n",
    "$$\n",
    "\\lambda_1 = \\frac{2\\mu - \\lambda_2 u\\mathbf{C}^{-1}m^\\mathbf{T}}{m\\mathbf{C}^{-1}m^\\mathbf{T}}\n",
    "$$"
   ]
  },
  {
   "cell_type": "code",
   "execution_count": 8,
   "metadata": {},
   "outputs": [
    {
     "name": "stdout",
     "output_type": "stream",
     "text": [
      "0.009789755807027994\n",
      "0.07207861822513403\n"
     ]
    }
   ],
   "source": [
    "# Simplify by defining variables.\n",
    "m_C_inv = np.array(exp_returns) @ cov_mat_inv\n",
    "m_C_inv_mT = m_C_inv @ np.array(exp_returns)\n",
    "m_C_inv_uT = m_C_inv @ u.T\n",
    "u_C_inv_uT = u @ cov_mat_inv @ u.T\n",
    "u_C_inv_mT = u @ cov_mat_inv @ np.array(exp_returns).T\n",
    "\n",
    "ret_cons = 0.1\n",
    "\n",
    "lambda_2 = ((2 * ret_cons * m_C_inv_uT) - 2 * m_C_inv_mT) / ((m_C_inv_uT ** 2) - (u_C_inv_uT * m_C_inv_mT))\n",
    "lambda_1 = ((2 * ret_cons) - (lambda_2 * u_C_inv_mT)) / m_C_inv_mT\n",
    "\n",
    "print(lambda_2)\n",
    "print(lambda_1)"
   ]
  },
  {
   "cell_type": "markdown",
   "metadata": {},
   "source": [
    "Now we use:\n",
    "\n",
    "$$\n",
    "w_\\mu=\\frac{\\lambda_1}{2}m\\mathbf{C}^{-1}+\\frac{\\lambda_2}{2}u\\mathbf{C}^{-1}\n",
    "$$"
   ]
  },
  {
   "cell_type": "code",
   "execution_count": 9,
   "metadata": {},
   "outputs": [
    {
     "name": "stdout",
     "output_type": "stream",
     "text": [
      "[0.1691483  0.04228708 0.78856462]\n"
     ]
    }
   ],
   "source": [
    "ret_cons_weights = ((lambda_1 / 2) * (np.array(exp_returns) @ cov_mat_inv)) + ((lambda_2 / 2) * (u @ cov_mat_inv))\n",
    "print(ret_cons_weights)"
   ]
  },
  {
   "cell_type": "markdown",
   "metadata": {},
   "source": [
    "#### Variance\n",
    "\n",
    "Similarly to the MVP, variance $\\sigma_{\\mu}^2$ is calculated with: \n",
    "$$\n",
    "\\sigma_{\\mu}^2 = \\mathbf{w}_{\\mu} \\ \\cdot\\ \\mathbf{C}\\ \\cdot\\ \\mathbf{w}_{\\mu}^{\\mathbf{T}}\n",
    "$$"
   ]
  },
  {
   "cell_type": "code",
   "execution_count": 10,
   "metadata": {},
   "outputs": [
    {
     "name": "stdout",
     "output_type": "stream",
     "text": [
      "0.008498808814770695\n"
     ]
    }
   ],
   "source": [
    "ret_cons_variance = ret_cons_weights @ cov_mat @ ret_cons_weights.T\n",
    "print(ret_cons_variance)"
   ]
  },
  {
   "cell_type": "markdown",
   "metadata": {},
   "source": [
    "#### Confirming Return\n",
    "\n",
    "We will also check that this portfolio returns the required amount with\n",
    "\n",
    "$$\n",
    "\\mu_\\mu = \\mathbf{w}_\\mu \\ \\cdot \\ \\mu\n",
    "$$\n",
    "\n",
    "** DOUBLE CHECK ^"
   ]
  },
  {
   "cell_type": "code",
   "execution_count": 22,
   "metadata": {},
   "outputs": [
    {
     "name": "stdout",
     "output_type": "stream",
     "text": [
      "0.09999999999999999\n"
     ]
    }
   ],
   "source": [
    "ret_cons_return = ret_cons_weights @ exp_returns\n",
    "print(ret_cons_return)"
   ]
  },
  {
   "cell_type": "markdown",
   "metadata": {},
   "source": [
    "### Market Portfolio for a given Risk-Free Rate\n",
    "\n",
    "Choose risk-free rate $0<R<\\mu_{\\textnormal{MVP}}$, and find the corresponding market portfolio. We can do this by finding the weights of the portfolio\n",
    "\n",
    "$$\n",
    "W_m = \\frac{(m-Ru)\\textnormal{C}^{-1}}{(m-Ru)\\textnormal{C}^{-1}u^{\\mathbf{T}}}\n",
    "$$\n",
    "\n"
   ]
  },
  {
   "cell_type": "code",
   "execution_count": 32,
   "metadata": {},
   "outputs": [
    {
     "name": "stdout",
     "output_type": "stream",
     "text": [
      "[0.02 0.02 0.02]\n",
      "[ 0.13 -0.12  0.08]\n",
      "[ 4.21875    -6.66666667  5.3125    ]\n",
      "2.8645833333333313\n",
      "\n",
      " weights:  [1.4727272727272738, -2.327272727272729, 1.8545454545454552]\n",
      "(negative weights indicate a short position. Total = 1)\n"
     ]
    }
   ],
   "source": [
    "R = 0.02\n",
    "Ru = R * u\n",
    "print(Ru)\n",
    "\n",
    "m_Ru = exp_returns - Ru\n",
    "print(m_Ru)\n",
    "\n",
    "m_Ru_C_inv = m_Ru @ cov_mat_inv\n",
    "print(m_Ru_C_inv)\n",
    "\n",
    "m_Ru_C_inv_uT = m_Ru_C_inv @ u.T\n",
    "print(m_Ru_C_inv_uT)\n",
    "\n",
    "# Therefore\n",
    "\n",
    "given_rfr_weights = []\n",
    "\n",
    "for i in m_Ru_C_inv:\n",
    "    given_rfr_weights.append(i / m_Ru_C_inv_uT)\n",
    "\n",
    "print(\"\\n\", \"weights: \", given_rfr_weights)\n",
    "print(\"(negative weights indicate a short position. Total = 1)\")\n"
   ]
  },
  {
   "cell_type": "markdown",
   "metadata": {},
   "source": [
    "# Beta factor, expected return, risk premium..."
   ]
  }
 ],
 "metadata": {
  "kernelspec": {
   "display_name": "base",
   "language": "python",
   "name": "python3"
  },
  "language_info": {
   "codemirror_mode": {
    "name": "ipython",
    "version": 3
   },
   "file_extension": ".py",
   "mimetype": "text/x-python",
   "name": "python",
   "nbconvert_exporter": "python",
   "pygments_lexer": "ipython3",
   "version": "3.12.4"
  }
 },
 "nbformat": 4,
 "nbformat_minor": 2
}
