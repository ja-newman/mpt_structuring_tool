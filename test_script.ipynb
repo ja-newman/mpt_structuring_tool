{
 "cells": [
  {
   "cell_type": "code",
   "execution_count": 2,
   "metadata": {},
   "outputs": [],
   "source": [
    "import numpy as np\n",
    "import pandas as pd\n",
    "from pylab import plt\n",
    "import scipy.optimize as sco\n",
    "plt.style.use(\"ggplot\")"
   ]
  },
  {
   "cell_type": "code",
   "execution_count": 46,
   "metadata": {},
   "outputs": [],
   "source": [
    "def find_covariance_matrix(corr, st_dev):\n",
    "    n = len(st_dev)\n",
    "    cov_matrix = np.zeros((n, n))\n",
    "    \n",
    "    # Indexing the correlations based on the provided order [ρ12, ρ23, ρ13]\n",
    "    corr_index = { (0, 1): 0, (1, 2): 1, (0, 2): 2 }\n",
    "    \n",
    "    # Fill the upper triangle and the lower triangle symmetrically\n",
    "    for i in range(n):\n",
    "        for j in range(i + 1, n):\n",
    "            rho = corr[corr_index[(i, j)] if (i, j) in corr_index else corr_index[(j, i)]]\n",
    "            cov_matrix[i, j] = rho * st_dev[i] * st_dev[j]\n",
    "            cov_matrix[j, i] = cov_matrix[i, j]\n",
    "\n",
    "    # Fill the diagonal\n",
    "    for i in range(n):\n",
    "        cov_matrix[i, i] = st_dev[i] ** 2\n",
    "\n",
    "    return cov_matrix\n",
    "\n",
    "def invert_matrix(matrix):\n",
    "    return np.linalg.inv(matrix)\n",
    "\n",
    "def find_mvp_weights(inverted_cov_mat, st_dev):\n",
    "    u = np.ones(len(st_dev))\n",
    "    u_C_inv = u @ inverted_cov_mat\n",
    "    u_C_inv_uT = u_C_inv @ u.T\n",
    "    \n",
    "    mvp_weights = []\n",
    "    for i in u_C_inv:\n",
    "        mvp_weights.append(i / u_C_inv_uT)\n",
    "    \n",
    "    return mvp_weights"
   ]
  },
  {
   "cell_type": "code",
   "execution_count": 40,
   "metadata": {},
   "outputs": [],
   "source": [
    "expected_returns = [0.15, -0.1, 0.1]\n",
    "standard_deviations = [0.2, 0.15, 0.1]\n",
    "correlations = [0.3, -0.1, 0.2] # [ρ12, ρ23, ρ13]"
   ]
  },
  {
   "cell_type": "markdown",
   "metadata": {},
   "source": [
    "### Find Covariance Matrix (C) and Inverse (C-1)"
   ]
  },
  {
   "cell_type": "code",
   "execution_count": 41,
   "metadata": {},
   "outputs": [
    {
     "name": "stdout",
     "output_type": "stream",
     "text": [
      "[[ 0.04    0.009   0.004 ]\n",
      " [ 0.009   0.0225 -0.0015]\n",
      " [ 0.004  -0.0015  0.01  ]]\n",
      "\n",
      "\n",
      "[[ 29.18632075 -12.57861635 -13.56132075]\n",
      " [-12.57861635  50.31446541  12.57861635]\n",
      " [-13.56132075  12.57861635 107.31132075]]\n"
     ]
    }
   ],
   "source": [
    "cov_mat = find_covariance_matrix(correlations, standard_deviations)\n",
    "cov_mat_inv = invert_matrix(cov_mat)\n",
    "\n",
    "print(cov_mat)\n",
    "print(\"\\n\")\n",
    "print(cov_mat_inv)"
   ]
  },
  {
   "cell_type": "markdown",
   "metadata": {},
   "source": [
    "### Find Weights of MVP"
   ]
  },
  {
   "cell_type": "code",
   "execution_count": 42,
   "metadata": {},
   "outputs": [
    {
     "name": "stdout",
     "output_type": "stream",
     "text": [
      "[0.01907692307692311, 0.31507692307692303, 0.6658461538461538]\n"
     ]
    }
   ],
   "source": [
    "mvp_weights = find_mvp_weights(cov_mat_inv, standard_deviations)\n",
    "print(mvp_weights)"
   ]
  },
  {
   "cell_type": "markdown",
   "metadata": {},
   "source": [
    "### Compute MVP Return"
   ]
  },
  {
   "cell_type": "code",
   "execution_count": 43,
   "metadata": {},
   "outputs": [
    {
     "name": "stdout",
     "output_type": "stream",
     "text": [
      "0.03793846153846154\n"
     ]
    }
   ],
   "source": [
    "expected_returns_array = np.array(expected_returns)\n",
    "\n",
    "mvp_return = mvp_weights @ expected_returns_array.T\n",
    "print(mvp_return)"
   ]
  },
  {
   "cell_type": "markdown",
   "metadata": {},
   "source": [
    "### Compute MVP Variance"
   ]
  },
  {
   "cell_type": "code",
   "execution_count": 44,
   "metadata": {},
   "outputs": [
    {
     "name": "stdout",
     "output_type": "stream",
     "text": [
      "0.006262153846153846\n"
     ]
    }
   ],
   "source": [
    "mvp_weights_array = np.array(mvp_weights)\n",
    "\n",
    "mvp_variance = mvp_weights_array @ cov_mat @ mvp_weights_array.T\n",
    "print(mvp_variance)"
   ]
  },
  {
   "cell_type": "markdown",
   "metadata": {},
   "source": [
    "### Find MVP with Return Constraint (10%)"
   ]
  },
  {
   "cell_type": "code",
   "execution_count": 51,
   "metadata": {},
   "outputs": [
    {
     "name": "stdout",
     "output_type": "stream",
     "text": [
      "[ 4.27967767 -5.66037736  7.43907233]\n",
      "1.951896619496855\n",
      "6.058372641509432\n",
      "159.689465408805\n",
      "6.0583726415094326\n"
     ]
    }
   ],
   "source": [
    "u = np.ones(len(standard_deviations))\n",
    "\n",
    "m_C_inv = expected_returns_array @ cov_mat_inv\n",
    "m_C_inv_mT = m_C_inv @ expected_returns_array.T\n",
    "m_c_inv_uT = m_C_inv @ u.T\n",
    "u_C_inv_uT = u @ cov_mat_inv @ u.T\n",
    "u_C_inv_mT = u @ cov_mat_inv @ expected_returns_array.T\n",
    "\n",
    "print(m_C_inv)\n",
    "print(m_C_inv_mT)\n",
    "print(m_c_inv_uT)\n",
    "print(u_C_inv_uT)\n",
    "print(u_C_inv_mT)"
   ]
  },
  {
   "cell_type": "markdown",
   "metadata": {},
   "source": [
    "### Find Lambdas"
   ]
  },
  {
   "cell_type": "code",
   "execution_count": 52,
   "metadata": {},
   "outputs": [
    {
     "name": "stdout",
     "output_type": "stream",
     "text": [
      "0.009789755807027994\n",
      "0.07207861822513403\n"
     ]
    }
   ],
   "source": [
    "return_constraint = 0.1\n",
    "\n",
    "lambda_2 = ((2 * return_constraint * m_c_inv_uT) - 2 * m_C_inv_mT) / ((m_c_inv_uT ** 2) - (u_C_inv_uT * m_C_inv_mT))\n",
    "lambda_1 = ((2 * return_constraint) - (lambda_2 * u_C_inv_mT)) / m_C_inv_mT\n",
    "\n",
    "print(lambda_2)\n",
    "print(lambda_1)"
   ]
  },
  {
   "cell_type": "markdown",
   "metadata": {},
   "source": [
    "### Find Weights"
   ]
  },
  {
   "cell_type": "code",
   "execution_count": 53,
   "metadata": {},
   "outputs": [
    {
     "name": "stdout",
     "output_type": "stream",
     "text": [
      "[0.1691483  0.04228708 0.78856462]\n"
     ]
    }
   ],
   "source": [
    "ret_cons_weights = ((lambda_1 / 2) * (expected_returns_array @ cov_mat_inv)) + ((lambda_2 / 2) * (u @ cov_mat_inv))\n",
    "\n",
    "print(ret_cons_weights)"
   ]
  },
  {
   "cell_type": "markdown",
   "metadata": {},
   "source": [
    "### Find Portfolio Variance"
   ]
  },
  {
   "cell_type": "code",
   "execution_count": 56,
   "metadata": {},
   "outputs": [
    {
     "name": "stdout",
     "output_type": "stream",
     "text": [
      "0.008498808814770695\n"
     ]
    }
   ],
   "source": [
    "ret_cons_variance = ret_cons_weights @ cov_mat @ ret_cons_weights.T\n",
    "print(ret_cons_variance)"
   ]
  },
  {
   "cell_type": "markdown",
   "metadata": {},
   "source": [
    "### Confirm 10% Return"
   ]
  },
  {
   "cell_type": "code",
   "execution_count": 65,
   "metadata": {},
   "outputs": [
    {
     "name": "stdout",
     "output_type": "stream",
     "text": [
      "0.09999999999999999\n"
     ]
    }
   ],
   "source": [
    "ret_cons_return = ret_cons_weights @ expected_returns_array.T\n",
    "print(ret_cons_return)"
   ]
  },
  {
   "cell_type": "markdown",
   "metadata": {},
   "source": [
    "### Find Market Portfolio for 0 < R < μMVP"
   ]
  },
  {
   "cell_type": "code",
   "execution_count": 64,
   "metadata": {},
   "outputs": [
    {
     "name": "stdout",
     "output_type": "stream",
     "text": [
      "[ 1.47272727 -2.32727273  1.85454545]\n"
     ]
    }
   ],
   "source": [
    "R = 0.02 # μMVP = 0.38, R is risk-free rate.\n",
    "\n",
    "mp_weights = ((expected_returns_array - (R * u)) @ cov_mat_inv) / ((expected_returns_array - (R * u)) @ cov_mat_inv @ u.T)\n",
    "print(mp_weights)\n",
    "\n",
    "# Negative weight denotes short position."
   ]
  },
  {
   "cell_type": "markdown",
   "metadata": {},
   "source": [
    "### Market Portfolio Return"
   ]
  },
  {
   "cell_type": "code",
   "execution_count": 66,
   "metadata": {},
   "outputs": [
    {
     "name": "stdout",
     "output_type": "stream",
     "text": [
      "0.6390909090909095\n"
     ]
    }
   ],
   "source": [
    "mp_return = mp_weights @ expected_returns_array.T\n",
    "print(mp_return)"
   ]
  },
  {
   "cell_type": "markdown",
   "metadata": {},
   "source": [
    "### Beta, Expected Return & Risk Premium for given Portfolio"
   ]
  },
  {
   "cell_type": "code",
   "execution_count": 71,
   "metadata": {},
   "outputs": [
    {
     "name": "stdout",
     "output_type": "stream",
     "text": [
      "0.2161190082644631\n"
     ]
    }
   ],
   "source": [
    "given_weights = np.array([0.2, 0.3, 0.5])\n",
    "\n",
    "# Beta = Cov(km, kw) / Market Portfolio Variance\n",
    "\n",
    "mp_variance = mp_weights @ cov_mat @ mp_weights.T\n",
    "print(mp_variance)"
   ]
  },
  {
   "cell_type": "code",
   "execution_count": 72,
   "metadata": {},
   "outputs": [
    {
     "name": "stdout",
     "output_type": "stream",
     "text": [
      "0.010472727272727278\n"
     ]
    }
   ],
   "source": [
    "# Cov(km, kw) = W * C * WmT\n",
    "\n",
    "cov_km_kw = given_weights @ cov_mat @ mp_weights.T\n",
    "print(cov_km_kw)"
   ]
  },
  {
   "cell_type": "markdown",
   "metadata": {},
   "source": [
    "### Beta:"
   ]
  },
  {
   "cell_type": "code",
   "execution_count": 73,
   "metadata": {},
   "outputs": [
    {
     "name": "stdout",
     "output_type": "stream",
     "text": [
      "0.04845814977973564\n"
     ]
    }
   ],
   "source": [
    "given_beta = cov_km_kw / mp_variance\n",
    "print(given_beta)"
   ]
  },
  {
   "cell_type": "markdown",
   "metadata": {},
   "source": [
    "### Expected Return:"
   ]
  },
  {
   "cell_type": "code",
   "execution_count": 77,
   "metadata": {},
   "outputs": [
    {
     "name": "stdout",
     "output_type": "stream",
     "text": [
      "0.045120144173007616\n"
     ]
    }
   ],
   "source": [
    "# Expected Return = R + Beta * (Market Portfolio Return + R)\n",
    "\n",
    "given_exp_return = (R + given_beta) * (mp_return + R)\n",
    "print(given_exp_return)"
   ]
  },
  {
   "cell_type": "markdown",
   "metadata": {},
   "source": [
    "### Risk Premium:"
   ]
  },
  {
   "cell_type": "code",
   "execution_count": 78,
   "metadata": {},
   "outputs": [
    {
     "name": "stdout",
     "output_type": "stream",
     "text": [
      "0.029999999999999995\n"
     ]
    }
   ],
   "source": [
    "given_risk_premium = given_beta * (mp_return - R)\n",
    "print(given_risk_premium)"
   ]
  },
  {
   "cell_type": "code",
   "execution_count": null,
   "metadata": {},
   "outputs": [],
   "source": []
  }
 ],
 "metadata": {
  "kernelspec": {
   "display_name": "base",
   "language": "python",
   "name": "python3"
  },
  "language_info": {
   "codemirror_mode": {
    "name": "ipython",
    "version": 3
   },
   "file_extension": ".py",
   "mimetype": "text/x-python",
   "name": "python",
   "nbconvert_exporter": "python",
   "pygments_lexer": "ipython3",
   "version": "3.12.4"
  }
 },
 "nbformat": 4,
 "nbformat_minor": 2
}
