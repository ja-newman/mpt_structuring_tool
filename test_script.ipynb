{
 "cells": [
  {
   "cell_type": "code",
   "execution_count": 2,
   "metadata": {},
   "outputs": [],
   "source": [
    "import numpy as np\n",
    "import pandas as pd\n",
    "from pylab import plt\n",
    "import scipy.optimize as sco\n",
    "plt.style.use(\"ggplot\")"
   ]
  },
  {
   "cell_type": "code",
   "execution_count": 3,
   "metadata": {},
   "outputs": [],
   "source": [
    "def find_covariance_matrix(corr, st_dev):\n",
    "    n = len(st_dev)\n",
    "    cov_matrix = np.zeros((n, n))\n",
    "    \n",
    "    # Indexing the correlations based on the provided order [ρ12, ρ23, ρ13]\n",
    "    corr_index = { (0, 1): 0, (1, 2): 1, (0, 2): 2 }\n",
    "    \n",
    "    # Fill the upper triangle and the lower triangle symmetrically\n",
    "    for i in range(n):\n",
    "        for j in range(i + 1, n):\n",
    "            rho = corr[corr_index[(i, j)] if (i, j) in corr_index else corr_index[(j, i)]]\n",
    "            cov_matrix[i, j] = rho * st_dev[i] * st_dev[j]\n",
    "            cov_matrix[j, i] = cov_matrix[i, j]\n",
    "\n",
    "    # Fill the diagonal\n",
    "    for i in range(n):\n",
    "        cov_matrix[i, i] = st_dev[i] ** 2\n",
    "\n",
    "    return cov_matrix\n",
    "\n",
    "def invert_matrix(matrix):\n",
    "    return np.linalg.inv(matrix)"
   ]
  },
  {
   "cell_type": "code",
   "execution_count": 4,
   "metadata": {},
   "outputs": [],
   "source": [
    "expected_returns = [0.15, -0.1, 0.1]\n",
    "standard_deviations = [0.2, 0.15, 0.1]\n",
    "correlations = [0.3, -0.1, 0.2]"
   ]
  },
  {
   "cell_type": "code",
   "execution_count": 5,
   "metadata": {},
   "outputs": [
    {
     "name": "stdout",
     "output_type": "stream",
     "text": [
      "[[ 0.04    0.009   0.004 ]\n",
      " [ 0.009   0.0225 -0.0015]\n",
      " [ 0.004  -0.0015  0.01  ]]\n",
      "\n",
      "\n",
      "[[ 29.18632075 -12.57861635 -13.56132075]\n",
      " [-12.57861635  50.31446541  12.57861635]\n",
      " [-13.56132075  12.57861635 107.31132075]]\n"
     ]
    }
   ],
   "source": [
    "cov_mat = find_covariance_matrix(correlations, standard_deviations)\n",
    "cov_mat_inv = invert_matrix(cov_mat)\n",
    "\n",
    "print(cov_mat)\n",
    "print(\"\\n\")\n",
    "print(cov_mat_inv)"
   ]
  },
  {
   "cell_type": "code",
   "execution_count": 6,
   "metadata": {},
   "outputs": [
    {
     "ename": "TypeError",
     "evalue": "'float' object cannot be interpreted as an integer",
     "output_type": "error",
     "traceback": [
      "\u001b[0;31m---------------------------------------------------------------------------\u001b[0m",
      "\u001b[0;31mTypeError\u001b[0m                                 Traceback (most recent call last)",
      "Cell \u001b[0;32mIn[6], line 1\u001b[0m\n\u001b[0;32m----> 1\u001b[0m initial_weights \u001b[38;5;241m=\u001b[39m np\u001b[38;5;241m.\u001b[39mones(standard_deviations)\n\u001b[1;32m      2\u001b[0m \u001b[38;5;28mprint\u001b[39m(initial_weights)\n",
      "File \u001b[0;32m/opt/anaconda3/lib/python3.12/site-packages/numpy/core/numeric.py:191\u001b[0m, in \u001b[0;36mones\u001b[0;34m(shape, dtype, order, like)\u001b[0m\n\u001b[1;32m    188\u001b[0m \u001b[38;5;28;01mif\u001b[39;00m like \u001b[38;5;129;01mis\u001b[39;00m \u001b[38;5;129;01mnot\u001b[39;00m \u001b[38;5;28;01mNone\u001b[39;00m:\n\u001b[1;32m    189\u001b[0m     \u001b[38;5;28;01mreturn\u001b[39;00m _ones_with_like(like, shape, dtype\u001b[38;5;241m=\u001b[39mdtype, order\u001b[38;5;241m=\u001b[39morder)\n\u001b[0;32m--> 191\u001b[0m a \u001b[38;5;241m=\u001b[39m empty(shape, dtype, order)\n\u001b[1;32m    192\u001b[0m multiarray\u001b[38;5;241m.\u001b[39mcopyto(a, \u001b[38;5;241m1\u001b[39m, casting\u001b[38;5;241m=\u001b[39m\u001b[38;5;124m'\u001b[39m\u001b[38;5;124munsafe\u001b[39m\u001b[38;5;124m'\u001b[39m)\n\u001b[1;32m    193\u001b[0m \u001b[38;5;28;01mreturn\u001b[39;00m a\n",
      "\u001b[0;31mTypeError\u001b[0m: 'float' object cannot be interpreted as an integer"
     ]
    }
   ],
   "source": [
    "initial_weights = np.ones(standard_deviations)\n",
    "print(initial_weights)"
   ]
  },
  {
   "cell_type": "code",
   "execution_count": null,
   "metadata": {},
   "outputs": [],
   "source": []
  }
 ],
 "metadata": {
  "kernelspec": {
   "display_name": "base",
   "language": "python",
   "name": "python3"
  },
  "language_info": {
   "codemirror_mode": {
    "name": "ipython",
    "version": 3
   },
   "file_extension": ".py",
   "mimetype": "text/x-python",
   "name": "python",
   "nbconvert_exporter": "python",
   "pygments_lexer": "ipython3",
   "version": "3.12.4"
  }
 },
 "nbformat": 4,
 "nbformat_minor": 2
}
